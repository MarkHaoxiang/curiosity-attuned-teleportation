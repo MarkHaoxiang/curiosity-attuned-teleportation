{
 "cells": [
  {
   "cell_type": "code",
   "execution_count": null,
   "metadata": {},
   "outputs": [],
   "source": [
    "from copy import deepcopy\n",
    "\n",
    "# Training\n",
    "import numpy as np\n",
    "import torch\n",
    "from hydra import initialize, compose\n",
    "from tqdm import tqdm\n",
    "\n",
    "# Evaluation\n",
    "import seaborn as sns\n",
    "\n",
    "sns.set_theme()\n",
    "from matplotlib import pyplot as plt\n",
    "\n",
    "from cats.evaluation import *\n",
    "from cats.run import run\n",
    "\n",
    "import gym_continuous_maze\n",
    "\n",
    "DEVICE = torch.device(\"cuda\" if torch.cuda.is_available() else \"cpu\")\n",
    "# DEVICE = \"cpu\"\n",
    "MASTER_SEED = 235790\n",
    "\n",
    "\n",
    "def generate_random_seeds(n: int):\n",
    "    rng = np.random.default_rng(MASTER_SEED)\n",
    "    return list(map(int, rng.integers(0, 2**32 - 1, size=(n,))))"
   ]
  },
  {
   "cell_type": "code",
   "execution_count": null,
   "metadata": {},
   "outputs": [],
   "source": [
    "TOTAL_FRAMES = 10000\n",
    "\n",
    "with initialize(version_base=None, config_path=\"cats/config\"):\n",
    "    base_cfg = compose(\n",
    "        config_name=\"defaults_off_policy.yaml\",\n",
    "        overrides=[\n",
    "            \"env.name=ContinuousLidarMaze-v0\",\n",
    "            f\"env.max_episode_steps={TOTAL_FRAMES}\",\n",
    "            f\"train.total_frames={TOTAL_FRAMES}\",\n",
    "            \"intrinsic=disagreement\",\n",
    "            \"cats.fixed_reset=true\",\n",
    "            \"cats.death_not_end=true\",\n",
    "            \"noise.scale=0.1\",\n",
    "        ],\n",
    "    )\n",
    "\n",
    "    cats_cfg = deepcopy(base_cfg)\n",
    "    cats_cfg.cats.teleport.enable = True\n",
    "    cats_cfg.env.max_episode_steps = math.inf\n",
    "    cats_cfg.cats.teleport_interval_enable\n",
    "    cats_cfg.cats.teleport.memory = {\"type\": \"fifo\", \"capacity\": 5000}"
   ]
  },
  {
   "cell_type": "code",
   "execution_count": null,
   "metadata": {},
   "outputs": [],
   "source": [
    "seeds = generate_random_seeds(5)\n",
    "\n",
    "baseline = []\n",
    "cats = []\n",
    "\n",
    "for seed in seeds:\n",
    "    cfg = deepcopy(base_cfg)\n",
    "    cfg.seed = seed\n",
    "    baseline.append(run(cfg, save=False, device=DEVICE))\n",
    "\n",
    "    cfg = deepcopy(cats_cfg)\n",
    "    cfg.seed = seed\n",
    "    cats.append(run(cfg, save=False, device=DEVICE))"
   ]
  },
  {
   "cell_type": "code",
   "execution_count": null,
   "metadata": {},
   "outputs": [],
   "source": [
    "experiment = cats[3]\n",
    "log = experiment.logger.engine.results\n",
    "fig, axs = plt.subplots(1, 3, constrained_layout=True)\n",
    "fig.set_size_inches(15, 4)\n",
    "fig.subplots_adjust(wspace=0.5)\n",
    "\n",
    "visualise_memory(experiment, fig, axs[0])\n",
    "visualise_experiment_policy(experiment, fig, axs[1], 0)\n",
    "axs[1].set_title(\"Policy Actions (X)\")\n",
    "visualise_experiment_policy(experiment, fig, axs[2], 1)\n",
    "axs[2].set_title(\"Policy Actions (Y)\")\n",
    "\n",
    "fig.suptitle(\"ContinuousLidarMaze\")\n",
    "fig.savefig(\"maze-policy.pdf\", format=\"pdf\", bbox_inches=\"tight\")"
   ]
  },
  {
   "cell_type": "code",
   "execution_count": null,
   "metadata": {},
   "outputs": [],
   "source": [
    "data = {\"baseline\": baseline, \"cats\": cats}\n",
    "\n",
    "import os\n",
    "import pickle as pkl\n",
    "\n",
    "path = \"evaluate/data/cats-maze\"\n",
    "path = os.path.join(path, f\"10000.pkl\")\n",
    "# with open(path, \"wb\") as f:\n",
    "#     pkl.dump(data, f)\n",
    "# with open(path, \"rb\") as f:\n",
    "#     experiment = pkl.load(f)"
   ]
  },
  {
   "cell_type": "code",
   "execution_count": null,
   "metadata": {},
   "outputs": [],
   "source": [
    "# Final Disagreement Value\n",
    "final_disagreement = {}\n",
    "final_entropy = {}\n",
    "\n",
    "for k, v in data.items():\n",
    "    final_disagreement[k] = np.array([evaluate_disagreement(x) for x in v])\n",
    "    final_entropy[k] = np.array([entropy_memory(x.memory.rb) for x in v])"
   ]
  },
  {
   "cell_type": "code",
   "execution_count": null,
   "metadata": {},
   "outputs": [],
   "source": [
    "baseline_collected = np.array(\n",
    "    [x.logger.engine.results[\"collected_intrinsic_reward\"] for x in baseline]\n",
    ")\n",
    "cats_collected = np.array(\n",
    "    [x.logger.engine.results[\"collected_intrinsic_reward\"] for x in cats]\n",
    ")\n",
    "\n",
    "fig, ax = plt.subplots()\n",
    "colours = sns.color_palette()\n",
    "\n",
    "x = [i * 100 for i in range(baseline_collected.shape[1])]\n",
    "\n",
    "mu = baseline_collected.mean(axis=0)\n",
    "std = baseline_collected.std(axis=0)\n",
    "ax.plot(x, mu, color=colours[0], label=\"Baseline\")\n",
    "ax.fill_between(x, mu - std, mu + std, alpha=0.2, color=colours[0])\n",
    "\n",
    "mu = cats_collected.mean(axis=0)\n",
    "std = cats_collected.std(axis=0)\n",
    "ax.plot(x, mu, color=colours[1], label=\"CATS\")\n",
    "ax.fill_between(x, mu - std, mu + std, alpha=0.2, color=colours[1])\n",
    "\n",
    "ax.set_title(\"ContinuousLidarMaze - Reward Collection\")\n",
    "ax.set_ylabel(\"Collected Intrinsic Reward - Running Total\")\n",
    "ax.set_xlabel(\"Collection Frame\")\n",
    "ax.legend()\n",
    "\n",
    "fig.savefig(\"maze-collected.pdf\", format=\"pdf\", bbox_inches=\"tight\")"
   ]
  },
  {
   "cell_type": "code",
   "execution_count": null,
   "metadata": {},
   "outputs": [],
   "source": [
    "def mu_std(data: dict):\n",
    "    for k, v in data.items():\n",
    "        mu = v.mean()\n",
    "        print(k, mu, v.std())\n",
    "\n",
    "\n",
    "print(\"Entropy\")\n",
    "mu_std(final_entropy)\n",
    "print(\"Disagreement\")\n",
    "mu_std(final_disagreement)"
   ]
  }
 ],
 "metadata": {
  "kernelspec": {
   "display_name": "venv",
   "language": "python",
   "name": "python3"
  },
  "language_info": {
   "codemirror_mode": {
    "name": "ipython",
    "version": 3
   },
   "file_extension": ".py",
   "mimetype": "text/x-python",
   "name": "python",
   "nbconvert_exporter": "python",
   "pygments_lexer": "ipython3",
   "version": "3.11.8"
  }
 },
 "nbformat": 4,
 "nbformat_minor": 2
}
