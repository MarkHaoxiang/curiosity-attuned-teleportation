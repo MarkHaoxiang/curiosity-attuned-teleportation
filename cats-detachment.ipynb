{
 "cells": [
  {
   "cell_type": "code",
   "execution_count": null,
   "metadata": {},
   "outputs": [],
   "source": [
    "from copy import deepcopy\n",
    "\n",
    "# Training\n",
    "import numpy as np\n",
    "import torch\n",
    "from hydra import initialize, compose\n",
    "from tqdm import tqdm\n",
    "\n",
    "# Evaluation\n",
    "import seaborn as sns\n",
    "from matplotlib import pyplot as plt\n",
    "\n",
    "sns.set_theme()\n",
    "\n",
    "from cats.evaluation import *\n",
    "from cats.run import run\n",
    "\n",
    "DEVICE = torch.device(\"cuda\" if torch.cuda.is_available() else \"cpu\")\n",
    "MASTER_SEED = 235790\n",
    "TOTAL_FRAMES = 10000\n",
    "\n",
    "def generate_random_seeds(n: int):\n",
    "    rng = np.random.default_rng(MASTER_SEED)\n",
    "    return list(map(int, rng.integers(0, 2**32-1, size=(n, ))))\n",
    "\n",
    "seeds = generate_random_seeds(20)\n",
    "print(seeds)\n",
    "\n",
    "\n",
    "\n",
    "with initialize(version_base=None, config_path=\"cats/config\"):\n",
    "    base_cfg = compose(\n",
    "        config_name=\"defaults_off_policy.yaml\",\n",
    "        overrides=[\n",
    "            \"intrinsic=disagreement\",\n",
    "            \"env.name=MountainCarContinuous-v0\",   # Environment Selection\n",
    "            f\"train.total_frames={TOTAL_FRAMES}\",            # Collection frames\n",
    "            \"algorithm.gamma=0.5\"\n",
    "        ],\n",
    "    )   "
   ]
  },
  {
   "cell_type": "code",
   "execution_count": null,
   "metadata": {},
   "outputs": [],
   "source": [
    "# Baseline 0.5\n",
    "\n",
    "baseline_05 = []\n",
    "for seed in tqdm(seeds):\n",
    "    cfg = deepcopy(base_cfg)\n",
    "    cfg.seed = seed\n",
    "    cfg.env.max_episode_steps= 999\n",
    "    experiment = run(cfg)\n",
    "    baseline_05.append(experiment)"
   ]
  },
  {
   "cell_type": "code",
   "execution_count": null,
   "metadata": {},
   "outputs": [],
   "source": [
    "# CATS_EPISODE\n",
    "cats_episode = []\n",
    "for seed in tqdm(seeds):\n",
    "    cfg = deepcopy(base_cfg)\n",
    "    cfg.seed = seed\n",
    "    cfg.env.max_episode_steps=TOTAL_FRAMES\n",
    "    cfg.cats.teleport_interval_enable=True\n",
    "    cfg.cats.teleport.enable=True\n",
    "    cfg.cats.teleport.memory.type=\"episode\"\n",
    "    experiment = run(cfg)\n",
    "    cats_episode.append(experiment)"
   ]
  },
  {
   "cell_type": "code",
   "execution_count": null,
   "metadata": {},
   "outputs": [],
   "source": [
    "# CATS_FIFO_1\n",
    "cats_fifo_1 = []\n",
    "for seed in tqdm(seeds):\n",
    "    cfg = deepcopy(base_cfg)\n",
    "    cfg.seed = seed\n",
    "    cfg.env.max_episode_steps=TOTAL_FRAMES\n",
    "    cfg.cats.teleport_interval_enable=True\n",
    "    cfg.cats.teleport.enable=True\n",
    "    cfg.cats.teleport.memory.type=\"fifo\"\n",
    "    cfg.cats.teleport.memory.capacity=TOTAL_FRAMES\n",
    "    experiment = run(cfg)\n",
    "    cats_fifo_1.append(experiment)"
   ]
  },
  {
   "cell_type": "code",
   "execution_count": null,
   "metadata": {},
   "outputs": [],
   "source": [
    "# CATS_FIFO_2\n",
    "cats_fifo_2 = []\n",
    "for seed in tqdm(seeds):\n",
    "    cfg = deepcopy(base_cfg)\n",
    "    cfg.seed = seed\n",
    "    cfg.env.max_episode_steps=TOTAL_FRAMES\n",
    "    cfg.cats.teleport_interval_enable=True\n",
    "    cfg.cats.teleport.enable=True\n",
    "    cfg.cats.teleport.memory.type=\"fifo\"\n",
    "    cfg.cats.teleport.memory.capacity=TOTAL_FRAMES // 4\n",
    "    experiment = run(cfg)\n",
    "    cats_fifo_2.append(experiment)"
   ]
  },
  {
   "cell_type": "code",
   "execution_count": null,
   "metadata": {},
   "outputs": [],
   "source": [
    "# CATS_FIFO_3\n",
    "cats_fifo_3 = []\n",
    "for seed in tqdm(seeds):\n",
    "    cfg = deepcopy(base_cfg)\n",
    "    cfg.seed = seed\n",
    "    cfg.env.max_episode_steps=TOTAL_FRAMES\n",
    "    cfg.cats.teleport_interval_enable=True\n",
    "    cfg.cats.teleport.enable=True\n",
    "    cfg.cats.teleport.memory.type=\"fifo\"\n",
    "    cfg.cats.teleport.memory.capacity=TOTAL_FRAMES // 16\n",
    "    experiment = run(cfg)\n",
    "    cats_fifo_3.append(experiment)"
   ]
  },
  {
   "cell_type": "code",
   "execution_count": null,
   "metadata": {},
   "outputs": [],
   "source": [
    "# CATS_FIFO_4\n",
    "cats_fifo_4 = []\n",
    "for seed in tqdm(seeds):\n",
    "    cfg = deepcopy(base_cfg)\n",
    "    cfg.seed = seed\n",
    "    cfg.env.max_episode_steps=TOTAL_FRAMES\n",
    "    cfg.cats.teleport_interval_enable=True\n",
    "    cfg.cats.teleport.enable=True\n",
    "    cfg.cats.teleport.memory.type=\"fifo\"\n",
    "    cfg.cats.teleport.memory.capacity=TOTAL_FRAMES // 50\n",
    "    experiment = run(cfg)\n",
    "    cats_fifo_4.append(experiment)"
   ]
  },
  {
   "cell_type": "code",
   "execution_count": null,
   "metadata": {},
   "outputs": [],
   "source": [
    "# CATS_FIFO_5\n",
    "cats_fifo_5 = []\n",
    "for seed in tqdm(seeds):\n",
    "    cfg = deepcopy(base_cfg)\n",
    "    cfg.seed = seed\n",
    "    cfg.env.max_episode_steps=TOTAL_FRAMES\n",
    "    cfg.cats.teleport_interval_enable=True\n",
    "    cfg.cats.teleport.enable=True\n",
    "    cfg.cats.teleport.memory.type=\"fifo\"\n",
    "    cfg.cats.teleport.memory.capacity=TOTAL_FRAMES // 100\n",
    "    experiment = run(cfg)\n",
    "    cats_fifo_5.append(experiment)"
   ]
  },
  {
   "cell_type": "code",
   "execution_count": null,
   "metadata": {},
   "outputs": [],
   "source": [
    "data = { \n",
    "    \"baseline_05\": baseline_05,\n",
    "    \"fifo_1\": cats_fifo_1,\n",
    "    \"fifo_2\": cats_fifo_2,\n",
    "    \"fifo_3\": cats_fifo_3,\n",
    "    \"fifo_4\": cats_fifo_4,\n",
    "    \"fifo_5\": cats_fifo_5,\n",
    "    \"episode\": cats_episode\n",
    "}"
   ]
  },
  {
   "cell_type": "code",
   "execution_count": null,
   "metadata": {},
   "outputs": [],
   "source": [
    "# Store Results\n",
    "import os\n",
    "import pickle as pkl\n",
    "\n",
    "path = \"evaluate/data/cats-detachment\"\n",
    "path = os.path.join(path, f\"detachment_gamma_05.pkl\")\n",
    "# with open(path, \"wb\") as f:\n",
    "#     pkl.dump(data, f)\n",
    "\n",
    "# Load results\n",
    "data = pkl.load(open(path, \"rb\"))\n",
    "baseline_05 = data[\"baseline_05\"]\n",
    "cats_fifo_1 = data[\"fifo_1\"]\n",
    "cats_fifo_2 = data[\"fifo_2\"]\n",
    "cats_fifo_3 = data[\"fifo_3\"]\n",
    "cats_fifo_4 = data[\"fifo_4\"]\n",
    "cats_fifo_5 = data[\"fifo_5\"]\n",
    "cats_episode = data[\"episode\"]"
   ]
  },
  {
   "cell_type": "code",
   "execution_count": null,
   "metadata": {},
   "outputs": [],
   "source": [
    "intrinsic_quality_results = {}\n",
    "for k, v in data.items():\n",
    "    intrinsic_quality = np.array([evaluate_disagreement(x) for x in v])\n",
    "    intrinsic_quality_results[k] = intrinsic_quality"
   ]
  },
  {
   "cell_type": "code",
   "execution_count": null,
   "metadata": {},
   "outputs": [],
   "source": [
    "intrinsic_quality = intrinsic_quality_results[\"fifo_1\"]\n",
    "mu = intrinsic_quality.mean()\n",
    "n = len(intrinsic_quality)\n",
    "confidence_bound = (((intrinsic_quality-mu)**2).sum() / (n-1))**0.5 / (n**0.5) * 1.96\n",
    "mu - confidence_bound"
   ]
  },
  {
   "cell_type": "code",
   "execution_count": null,
   "metadata": {},
   "outputs": [],
   "source": [
    "key_map = {\n",
    "    \"fifo_1\": \"FIFO 10000\",\n",
    "    \"fifo_2\": \"FIFO 2500\",\n",
    "    \"fifo_3\": \"FIFO 625\",\n",
    "    \"fifo_4\": \"FIFO 200\",\n",
    "    \"fifo_5\": \"FIFO 100\",\n",
    "    \"episode\":\"Episodic\",\n",
    "    \"baseline_05\": \"Baseline\"\n",
    "}\n",
    "data = {k: v for k, v in sorted(intrinsic_quality_results.items(), key=lambda x: x[1].mean())}\n",
    "data = {key_map[k]: v for k, v in data.items()}\n",
    "\n",
    "ax = sns.barplot(data, orient=\"h\", errorbar=(\"se\", 1.96))\n",
    "ax.set_title(\"MountainCarContinuous, γ=0.5\")\n",
    "ax.set_ylabel(\"Teleportation Memory\")\n",
    "ax.set_xlabel(\"Expected Reward (Disagreement)\")\n",
    "\n",
    "ax.get_figure().savefig(\"mcc-cats-detachment-2.pdf\", format=\"pdf\", bbox_inches=\"tight\")\n"
   ]
  },
  {
   "cell_type": "code",
   "execution_count": null,
   "metadata": {},
   "outputs": [],
   "source": [
    "INDEX = 0\n",
    "experiments = [baseline_05[INDEX], cats_fifo_1[INDEX], cats_fifo_3[INDEX], cats_fifo_5[INDEX]]\n",
    "name = [\"Baseline\", \"FIFO 10000\", \"FIFO 625\", \"FIFO 100\"]\n",
    "\n",
    "\n",
    "fig = plt.figure(constrained_layout=True)\n",
    "fig.suptitle(\"MountainCarContinuous, γ=0.5\")\n",
    "fig.set_size_inches(16,7)\n",
    "\n",
    "subfigs = fig.subfigures(2, 1)\n",
    "\n",
    "subfigs[0].suptitle(\"State Visitation\")\n",
    "axs = subfigs[0].subplots(nrows=1, ncols=4, sharex=True, sharey=True)\n",
    "for i, ex in enumerate(experiments):\n",
    "    ax = axs[i]\n",
    "    visualise_memory(ex, fig, ax)\n",
    "    if i != 0: \n",
    "        ax.set_ylabel(\"\")\n",
    "    ax.set_xlabel(\"\")\n",
    "    ax.set_title(name[i])\n",
    "\n",
    "subfigs[1].suptitle(\"Value Function\")\n",
    "axs = subfigs[1].subplots(nrows=1, ncols=4, sharex=True, sharey=True)\n",
    "for i, ex in enumerate(experiments):\n",
    "    ax = axs[i]\n",
    "    visualise_experiment_value_estimate(ex, fig, ax)\n",
    "    if i != 0: \n",
    "        ax.set_ylabel(\"\")\n",
    "    ax.set_title(\"\")\n",
    "\n",
    "fig.savefig(\"mcc-cats-detachment.pdf\", format=\"pdf\", bbox_inches=\"tight\")\n"
   ]
  },
  {
   "cell_type": "code",
   "execution_count": null,
   "metadata": {},
   "outputs": [],
   "source": [
    "print(max(cats_episode[INDEX].logger.engine.results[\"reset_step\"]))"
   ]
  },
  {
   "cell_type": "code",
   "execution_count": null,
   "metadata": {},
   "outputs": [],
   "source": [
    "plt.plot(cats_episode[2].logger.engine.results[\"reset_step\"])"
   ]
  },
  {
   "cell_type": "code",
   "execution_count": null,
   "metadata": {},
   "outputs": [],
   "source": []
  },
  {
   "cell_type": "code",
   "execution_count": null,
   "metadata": {},
   "outputs": [],
   "source": []
  }
 ],
 "metadata": {
  "kernelspec": {
   "display_name": "venv",
   "language": "python",
   "name": "python3"
  },
  "language_info": {
   "codemirror_mode": {
    "name": "ipython",
    "version": 3
   },
   "file_extension": ".py",
   "mimetype": "text/x-python",
   "name": "python",
   "nbconvert_exporter": "python",
   "pygments_lexer": "ipython3",
   "version": "3.11.8"
  }
 },
 "nbformat": 4,
 "nbformat_minor": 2
}
