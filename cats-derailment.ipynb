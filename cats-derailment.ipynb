{
 "cells": [
  {
   "cell_type": "code",
   "execution_count": null,
   "metadata": {},
   "outputs": [],
   "source": [
    "from copy import deepcopy\n",
    "\n",
    "import numpy as np\n",
    "from hydra import initialize, compose\n",
    "from tqdm import tqdm\n",
    "\n",
    "from kitten.nn import Value, ClassicalValue\n",
    "\n",
    "from cats.agent.policy import ExplorationPolicy\n",
    "from cats.on_policy_experiment import OnlineExperiment\n",
    "from cats.evaluation import *\n",
    "\n",
    "DEVICE = \"cpu\"\n",
    "MASTER_SEED = 235790\n",
    "def generate_random_seeds(n: int):\n",
    "    rng = np.random.default_rng(MASTER_SEED)\n",
    "    return rng.integers(0, 2**32-1, size=(n, ))\n",
    "\n",
    "seeds = generate_random_seeds(1)\n",
    "print(seeds)\n",
    "\n",
    "class ClassicControlDiscreteExperiment(OnlineExperiment):\n",
    "    def _build_policy(self) -> None:\n",
    "        super()._build_policy()\n",
    "        self._policy = ExplorationPolicy(\n",
    "            self.env, self.rng.build_generator(), repeat_probability=self.cfg.policy.p\n",
    "        )\n",
    "    \n",
    "    @property\n",
    "    def policy(self):\n",
    "        return self._policy\n",
    "\n",
    "    def _build_value(self) -> Value:\n",
    "        return ClassicalValue(self.env).to(self.device)\n"
   ]
  },
  {
   "cell_type": "code",
   "execution_count": null,
   "metadata": {},
   "outputs": [],
   "source": [
    "TOTAL_FRAMES = 50000\n",
    "\n",
    "with initialize(version_base=None, config_path=\"cats/config\"):\n",
    "    base_cfg = compose(\n",
    "        config_name=\"defaults_on_policy_classic_control.yaml\",\n",
    "        overrides=[\n",
    "            f\"train.total_frames={TOTAL_FRAMES}\",   # Collection frames\n",
    "            \"env.max_episode_steps=10000\",          # Disable environment truncation\n",
    "            \"algorithm.collection_batch=100\",       # Truncation / Teleport on 100 steps\n",
    "            \"policy.p=0\",                           # Uncorrelated random actions for policy\n",
    "        ],\n",
    "    )"
   ]
  },
  {
   "cell_type": "code",
   "execution_count": null,
   "metadata": {},
   "outputs": [],
   "source": [
    "# UCB\n",
    "ucb = []\n",
    "for seed in tqdm(seeds):\n",
    "    cfg = deepcopy(base_cfg)\n",
    "    cfg.seed = int(seed)\n",
    "    cfg.cats.teleport.enable=True\n",
    "    cfg.cats.teleport.type = \"ucb\"\n",
    "    cfg.cats.teleport.kwargs = {\"c\": 1}\n",
    "    experiment = ClassicControlDiscreteExperiment(cfg, device=DEVICE)\n",
    "    experiment.run()\n",
    "    ucb.append(experiment)"
   ]
  },
  {
   "cell_type": "code",
   "execution_count": null,
   "metadata": {},
   "outputs": [],
   "source": [
    "fig, ax = plt.subplots()\n",
    "ax.plot(experiment.logger._engine.results['train/value_loss'])\n",
    "ax.set_yscale(\"log\")"
   ]
  },
  {
   "cell_type": "code",
   "execution_count": null,
   "metadata": {},
   "outputs": [],
   "source": [
    "visualise_classic_control_results(ucb[0])"
   ]
  },
  {
   "cell_type": "code",
   "execution_count": null,
   "metadata": {},
   "outputs": [],
   "source": [
    "# Disabled\n",
    "disabled = []\n",
    "for seed in tqdm(seeds):\n",
    "    cfg = deepcopy(base_cfg)\n",
    "    cfg.seed = int(seed)\n",
    "    cfg.cats.teleport.enable=False\n",
    "    experiment = ClassicControlDiscreteExperiment(cfg, device=DEVICE)\n",
    "    experiment.run()\n",
    "    disabled.append(experiment)"
   ]
  },
  {
   "cell_type": "code",
   "execution_count": null,
   "metadata": {},
   "outputs": [],
   "source": [
    "# Random\n",
    "random = []\n",
    "for seed in tqdm(seeds):\n",
    "    cfg = deepcopy(base_cfg)\n",
    "    cfg.seed = int(seed)\n",
    "    cfg.cats.teleport.enable=True\n",
    "    cfg.cats.teleport.type = \"e_greedy\"\n",
    "    cfg.cats.teleport.kwargs.e = 1.0\n",
    "    experiment = ClassicControlDiscreteExperiment(cfg, device=DEVICE)\n",
    "    experiment.run()\n",
    "    random.append(experiment)"
   ]
  },
  {
   "cell_type": "code",
   "execution_count": null,
   "metadata": {},
   "outputs": [],
   "source": [
    "# e_greedy\n",
    "e_greedy = []\n",
    "for seed in tqdm(seeds):\n",
    "    cfg = deepcopy(base_cfg)\n",
    "    cfg.seed = int(seed)\n",
    "    cfg.cats.teleport.enable=True\n",
    "    cfg.cats.teleport.type = \"e_greedy\"\n",
    "    cfg.cats.teleport.kwargs.e = 0.1\n",
    "    experiment = ClassicControlDiscreteExperiment(cfg, device=DEVICE)\n",
    "    experiment.run()\n",
    "    e_greedy.append(experiment)"
   ]
  },
  {
   "cell_type": "code",
   "execution_count": null,
   "metadata": {},
   "outputs": [],
   "source": [
    "# boltzmann\n",
    "boltzmann = []\n",
    "for seed in tqdm(seeds):\n",
    "    cfg = deepcopy(base_cfg)\n",
    "    cfg.seed = int(seed)\n",
    "    cfg.cats.teleport.enable=True\n",
    "    cfg.cats.teleport.type = \"boltzmann\"\n",
    "    cfg.cats.teleport.kwargs = {\"alpha\": 2}\n",
    "    experiment = ClassicControlDiscreteExperiment(cfg, device=DEVICE)\n",
    "    experiment.run()\n",
    "    boltzmann.append(experiment)"
   ]
  },
  {
   "cell_type": "code",
   "execution_count": null,
   "metadata": {},
   "outputs": [],
   "source": [
    "def entropy_memory_with_confidence(experiments: list[ClassicControlDiscreteExperiment]):\n",
    "    experiment_entropy = [entropy_memory(experiment.memory.rb) for experiment in experiments]\n",
    "    mu_hat = experiment_entropy.mean()\n",
    "    n = len(experiment_entropy)\n",
    "    var_hat = ((experiment_entropy-mu_hat)**2).sum() / (n-1)\n",
    "    std_hat = var_hat**0.5\n",
    "    mu_hat, (std_hat / n**0.5) * 1.96"
   ]
  },
  {
   "cell_type": "code",
   "execution_count": null,
   "metadata": {},
   "outputs": [],
   "source": [
    "# Mountain Car Visual Confirmation\n",
    " \n",
    "fig, axs = plt.subplots(1,5)\n",
    "fig.set_size_inches(24,3)\n",
    "fig.subplots_adjust(wspace=0.5)\n",
    "visualise_memory(disabled[0], fig, axs[0])\n",
    "axs[0].set_title(\"Disabled\")\n",
    "visualise_memory(random[0], fig, axs[1])\n",
    "axs[1].set_title(\"Random\")\n",
    "visualise_memory(e_greedy[0], fig, axs[2])\n",
    "axs[2].set_title(\"e_greedy\")\n",
    "visualise_memory(boltzmann[0], fig, axs[3])\n",
    "axs[3].set_title(\"boltzmann\")\n",
    "visualise_memory(ucb[0], fig, axs[4])\n",
    "axs[4].set_title(\"ucb\")"
   ]
  }
 ],
 "metadata": {
  "kernelspec": {
   "display_name": "venv",
   "language": "python",
   "name": "python3"
  },
  "language_info": {
   "codemirror_mode": {
    "name": "ipython",
    "version": 3
   },
   "file_extension": ".py",
   "mimetype": "text/x-python",
   "name": "python",
   "nbconvert_exporter": "python",
   "pygments_lexer": "ipython3",
   "version": "3.11.7"
  }
 },
 "nbformat": 4,
 "nbformat_minor": 2
}
