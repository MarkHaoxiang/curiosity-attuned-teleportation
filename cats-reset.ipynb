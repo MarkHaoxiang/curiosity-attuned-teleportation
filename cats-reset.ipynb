{
 "cells": [
  {
   "cell_type": "code",
   "execution_count": null,
   "metadata": {},
   "outputs": [],
   "source": [
    "import pickle as pkl\n",
    "\n",
    "# Training\n",
    "import numpy as np\n",
    "import torch\n",
    "from hydra import initialize, compose\n",
    "\n",
    "# Evaluation\n",
    "import seaborn as sns\n",
    "from matplotlib import pyplot as plt\n",
    "\n",
    "# sns.set_theme()\n",
    "\n",
    "from cats.off_policy_experiment import CatsExperiment\n",
    "from cats.evaluation import *\n",
    "from cats.run import run\n",
    "\n",
    "DEVICE = torch.device(\"cuda\" if torch.cuda.is_available() else \"cpu\")"
   ]
  },
  {
   "cell_type": "code",
   "execution_count": null,
   "metadata": {},
   "outputs": [],
   "source": [
    "with initialize(version_base=None, config_path=\"cats/config\"):\n",
    "    cfg = compose(\n",
    "        config_name=\"defaults_off_policy.yaml\",\n",
    "        overrides=[\n",
    "            \"seed=4\",\n",
    "            \"intrinsic=disagreement\",\n",
    "            \"train.total_frames=10000\",\n",
    "            \"cats.reset_action.enable=true\",\n",
    "        ],\n",
    "    )\n",
    "    cfg.noise.scale = [0.1, 0.01]\n",
    "experiment_1 = run(cfg)\n",
    "\n",
    "visualise_classic_control_results(experiment_1)"
   ]
  },
  {
   "cell_type": "code",
   "execution_count": null,
   "metadata": {},
   "outputs": [],
   "source": [
    "with initialize(version_base=None, config_path=\"cats/config\"):\n",
    "    cfg = compose(\n",
    "        config_name=\"defaults_off_policy.yaml\",\n",
    "        overrides=[\n",
    "            \"seed=4\",\n",
    "            \"intrinsic=disagreement\",\n",
    "            \"train.total_frames=10000\",\n",
    "        ],\n",
    "    )\n",
    "    cfg.noise.scale = 0.1\n",
    "experiment = run(cfg)\n",
    "\n",
    "visualise_classic_control_results(experiment)"
   ]
  },
  {
   "cell_type": "code",
   "execution_count": null,
   "metadata": {},
   "outputs": [],
   "source": []
  }
 ],
 "metadata": {
  "kernelspec": {
   "display_name": "venv",
   "language": "python",
   "name": "python3"
  },
  "language_info": {
   "codemirror_mode": {
    "name": "ipython",
    "version": 3
   },
   "file_extension": ".py",
   "mimetype": "text/x-python",
   "name": "python",
   "nbconvert_exporter": "python",
   "pygments_lexer": "ipython3",
   "version": "3.11.8"
  }
 },
 "nbformat": 4,
 "nbformat_minor": 2
}
