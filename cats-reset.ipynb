{
 "cells": [
  {
   "cell_type": "code",
   "execution_count": null,
   "metadata": {},
   "outputs": [],
   "source": [
    "import os\n",
    "import pickle as pkl\n",
    "from copy import deepcopy\n",
    "\n",
    "# Training\n",
    "import numpy as np\n",
    "import torch\n",
    "from hydra import initialize, compose\n",
    "from tqdm import tqdm\n",
    "\n",
    "# Evaluation\n",
    "import seaborn as sns\n",
    "from matplotlib import pyplot as plt\n",
    "\n",
    "sns.set_theme()\n",
    "\n",
    "from cats.evaluation import *\n",
    "from cats.run import run\n",
    "\n",
    "DEVICE = torch.device(\"cuda\" if torch.cuda.is_available() else \"cpu\")\n",
    "MASTER_SEED = 235790\n",
    "TOTAL_FRAMES = 10000\n",
    "\n",
    "def generate_random_seeds(n: int):\n",
    "    rng = np.random.default_rng(MASTER_SEED)\n",
    "    return list(map(int, rng.integers(0, 2**32-1, size=(n, ))))\n",
    "\n",
    "seeds = generate_random_seeds(20)\n",
    "print(seeds)\n",
    "\n",
    "ENV = \"MountainCarContinuous-v0\"\n",
    "# ENV = \"Pendulum-v1\"\n",
    "\n",
    "with initialize(version_base=None, config_path=\"cats/config\"):\n",
    "    base_cfg = compose(\n",
    "        config_name=\"defaults_off_policy.yaml\",\n",
    "        overrides=[\n",
    "            \"intrinsic=disagreement\",\n",
    "            f\"env.name={ENV}\",                               # Environment Selection\n",
    "            \"env.max_episode_steps=200\",\n",
    "            f\"train.total_frames={TOTAL_FRAMES}\",            # Collection frames\n",
    "        ],\n",
    "    )   \n",
    "\n",
    "path = \"evaluate/data/cats-reset\"\n",
    "path = os.path.join(path, f\"{ENV}.pkl\")"
   ]
  },
  {
   "cell_type": "code",
   "execution_count": null,
   "metadata": {},
   "outputs": [],
   "source": [
    "# Baseline\n",
    "\n",
    "death_end_baseline = []\n",
    "for seed in tqdm(seeds):\n",
    "    cfg = deepcopy(base_cfg)\n",
    "    cfg.seed = seed\n",
    "    cfg.cats.death_not_end = False\n",
    "    experiment = run(cfg, save=False)\n",
    "    death_end_baseline.append(experiment)\n",
    "\n",
    "# Death is not the end\n",
    "\n",
    "death_cont_baseline = []\n",
    "for seed in tqdm(seeds):\n",
    "    cfg = deepcopy(base_cfg)\n",
    "    cfg.seed = seed\n",
    "    cfg.cats.death_not_end = True\n",
    "    experiment = run(cfg, save=False)\n",
    "    death_cont_baseline.append(experiment)\n",
    "\n",
    "# Reset Action (Standard)\n",
    "\n",
    "reset_1 = []\n",
    "for seed in tqdm(seeds):\n",
    "    cfg = deepcopy(base_cfg)\n",
    "    cfg.seed = seed\n",
    "    cfg.cats.death_not_end = True\n",
    "    cfg.cats.reset_action.enable = True\n",
    "    cfg.cats.reset_inject_critic = False\n",
    "    cfg.noise.scale = [0.1, 0.01]\n",
    "    experiment = run(cfg, save=False)\n",
    "    reset_1.append(experiment)\n",
    "\n",
    "# Reset Action (Injection)\n",
    "reset_2 = []\n",
    "for seed in tqdm(seeds):\n",
    "    cfg = deepcopy(base_cfg)\n",
    "    cfg.seed = seed\n",
    "    cfg.cats.death_not_end = True\n",
    "    cfg.cats.reset_action.enable = True\n",
    "    cfg.cats.reset_inject_critic = True\n",
    "    cfg.noise.scale = [0.1, 0.01]\n",
    "    experiment = run(cfg, save=False)\n",
    "    reset_2.append(experiment)"
   ]
  },
  {
   "cell_type": "code",
   "execution_count": null,
   "metadata": {},
   "outputs": [],
   "source": [
    "# data = {\n",
    "#     \"death_end_baseline\": death_end_baseline,\n",
    "#     \"death_cont_baseline\": death_cont_baseline,\n",
    "#     \"reset_1\": reset_1,\n",
    "#     \"reset_2\": reset_2\n",
    "# }\n",
    "\n",
    "# with open(path, \"wb\") as f:\n",
    "#     pkl.dump(data, f)"
   ]
  },
  {
   "cell_type": "markdown",
   "metadata": {},
   "source": [
    "# Figures"
   ]
  },
  {
   "cell_type": "code",
   "execution_count": null,
   "metadata": {},
   "outputs": [],
   "source": [
    "with open(path, \"rb\") as f:\n",
    "    data = pkl.load(f)\n",
    "\n",
    "key_map = {\n",
    "    \"death_end_baseline\": \"Death End\",\n",
    "    \"death_cont_baseline\": \"Death Cont.\",\n",
    "    \"reset_1\": \"Reset Action Learnt\",\n",
    "    \"reset_2\": \"Reset Action Injection\",\n",
    "}"
   ]
  },
  {
   "cell_type": "code",
   "execution_count": null,
   "metadata": {},
   "outputs": [],
   "source": [
    "# Final Disagreement Value\n",
    "final_disagreement = {}\n",
    "final_entropy = {}\n",
    "\n",
    "for k, v in data.items():\n",
    "    final_disagreement[k] = np.array([evaluate_disagreement(x) for x in v])\n",
    "    final_entropy[k] = np.array([entropy_memory(x.memory.rb) for x in v])"
   ]
  },
  {
   "cell_type": "code",
   "execution_count": null,
   "metadata": {},
   "outputs": [],
   "source": [
    "def mu_var(data: dict):\n",
    "    for k, v in data.items():\n",
    "        mu = v.mean()\n",
    "        n = len(v)\n",
    "        confidence_bound = (((v-mu)**2).sum() / (n-1))**0.5 / (n**0.5) * 1.96\n",
    "        print(k, mu, confidence_bound)\n",
    "\n",
    "print(\"Entropy\")\n",
    "mu_var(final_entropy)\n",
    "print(\"Disagreement\")\n",
    "mu_var(final_disagreement)"
   ]
  },
  {
   "cell_type": "code",
   "execution_count": null,
   "metadata": {},
   "outputs": [],
   "source": [
    "sns.barplot(final_disagreement)"
   ]
  },
  {
   "cell_type": "code",
   "execution_count": null,
   "metadata": {},
   "outputs": [],
   "source": [
    "import matplotlib\n",
    "matplotlib.__version__"
   ]
  }
 ],
 "metadata": {
  "kernelspec": {
   "display_name": "venv",
   "language": "python",
   "name": "python3"
  },
  "language_info": {
   "codemirror_mode": {
    "name": "ipython",
    "version": 3
   },
   "file_extension": ".py",
   "mimetype": "text/x-python",
   "name": "python",
   "nbconvert_exporter": "python",
   "pygments_lexer": "ipython3",
   "version": "3.11.8"
  }
 },
 "nbformat": 4,
 "nbformat_minor": 2
}
