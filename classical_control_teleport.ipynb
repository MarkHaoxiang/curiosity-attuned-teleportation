{
 "cells": [
  {
   "cell_type": "code",
   "execution_count": null,
   "metadata": {},
   "outputs": [],
   "source": [
    "import torch\n",
    "from hydra import initialize, compose\n",
    "\n",
    "from kitten.nn import Value, ClassicalValue\n",
    "\n",
    "from cats.agent.policy import ExplorationPolicy\n",
    "from cats.online_experiment import OnlineExperiment\n",
    "from cats.evaluation import *\n",
    "\n",
    "\n",
    "class ClassicControlDiscreteExperiment(OnlineExperiment):\n",
    "    def _build_policy(self) -> None:\n",
    "        super()._build_policy()\n",
    "        self._policy = ExplorationPolicy(\n",
    "            self.env, self.rng.build_generator(), repeat_probability=self.cfg.policy.p\n",
    "        )\n",
    "    \n",
    "    @property\n",
    "    def policy(self):\n",
    "        return self._policy\n",
    "\n",
    "    def _build_value(self) -> Value:\n",
    "        return ClassicalValue(self.env).to(self.device)\n",
    "        \n",
    "DEVICE = torch.device(\"cuda\" if torch.cuda.is_available() else \"cpu\")"
   ]
  },
  {
   "cell_type": "code",
   "execution_count": null,
   "metadata": {},
   "outputs": [],
   "source": [
    "\n",
    "seed = 0\n",
    "steps = 10000\n",
    "with initialize(version_base=None, config_path=\"cats/config\"):\n",
    "        cfg = compose(\n",
    "            config_name=\"defaults_online_classic_control.yaml\",\n",
    "            overrides=[\n",
    "                f\"seed={seed}\",\n",
    "                f\"train.total_frames={steps}\",\n",
    "                \"env.max_episode_steps=10000\",\n",
    "                \"cats.fixed_reset=true\",\n",
    "                \"cats.teleport.enable=true\",\n",
    "            ],\n",
    "        )\n",
    "experiment = ClassicControlDiscreteExperiment(cfg, device=DEVICE)\n",
    "experiment.run()\n",
    "\n",
    "visualise_classic_control_results(experiment)"
   ]
  },
  {
   "cell_type": "code",
   "execution_count": null,
   "metadata": {},
   "outputs": [],
   "source": [
    "seed = 0\n",
    "steps = 10000\n",
    "with initialize(version_base=None, config_path=\"cats/config\"):\n",
    "        cfg = compose(\n",
    "            config_name=\"defaults_online_classic_control.yaml\",\n",
    "            overrides=[\n",
    "                f\"seed={seed}\",\n",
    "                f\"train.total_frames={steps}\",\n",
    "                \"env.max_episode_steps=10000\",\n",
    "                \"cats.fixed_reset=true\",\n",
    "                \"cats.teleport.enable=true\",\n",
    "            ],\n",
    "        )\n",
    "        cfg.cats.teleport.type = \"boltzmann\"\n",
    "        cfg.cats.teleport.kwargs = {\"alpha\": 2}\n",
    "experiment = ClassicControlDiscreteExperiment(cfg, device=DEVICE)\n",
    "experiment.run()\n",
    "\n",
    "visualise_classic_control_results(experiment)"
   ]
  }
 ],
 "metadata": {
  "kernelspec": {
   "display_name": "venv",
   "language": "python",
   "name": "python3"
  },
  "language_info": {
   "codemirror_mode": {
    "name": "ipython",
    "version": 3
   },
   "file_extension": ".py",
   "mimetype": "text/x-python",
   "name": "python",
   "nbconvert_exporter": "python",
   "pygments_lexer": "ipython3",
   "version": "3.11.8"
  }
 },
 "nbformat": 4,
 "nbformat_minor": 2
}
